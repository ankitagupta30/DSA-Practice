{
 "cells": [
  {
   "cell_type": "code",
   "execution_count": null,
   "metadata": {},
   "outputs": [],
   "source": [
    "1 Inverted Number Pattern\n",
    "\"\"\"\n",
    "Print the following pattern for the given N number of rows.\n",
    "Pattern for N = 4\n",
    "    4444\n",
    "    333\n",
    "    22\n",
    "    1\n",
    "\"\"\""
   ]
  },
  {
   "cell_type": "code",
   "execution_count": 1,
   "metadata": {},
   "outputs": [
    {
     "name": "stdout",
     "output_type": "stream",
     "text": [
      "4\n",
      "4444\n",
      "333\n",
      "22\n",
      "1\n"
     ]
    }
   ],
   "source": [
    "n = int(input())\n",
    "i =1\n",
    "while i <=n:\n",
    "    j =1\n",
    "    while j<=n-i+1:\n",
    "        print(n-i+1, end=\"\")\n",
    "        j = j +1\n",
    "    print()\n",
    "    i =i+1"
   ]
  },
  {
   "cell_type": "markdown",
   "metadata": {},
   "source": [
    "2. Mirror Number Pattern\n",
    "\"\"\"\n",
    "Print the following pattern for the given N number of rows.\n",
    "Pattern for N = 4\n",
    "    ...1\n",
    "    ..12\n",
    "    .123\n",
    "    1234\n",
    "The dots represent spaces.\n",
    "\"\"\" \n",
    "Sample Input :\n",
    "3\n",
    "Sample Output :\n",
    "  1\n",
    " 12\n",
    "123\n"
   ]
  },
  {
   "cell_type": "code",
   "execution_count": 3,
   "metadata": {},
   "outputs": [
    {
     "name": "stdout",
     "output_type": "stream",
     "text": [
      "4\n",
      "   1\n",
      "  12\n",
      " 123\n",
      "1234\n"
     ]
    }
   ],
   "source": [
    "n = int(input())\n",
    "i =1\n",
    "while i <=n:\n",
    "    s =1\n",
    "    while s <=n-i:\n",
    "        print(\" \", end=\"\")\n",
    "        s = s+1\n",
    "    j =1\n",
    "    while j <=i:\n",
    "        print(j, end=\"\")\n",
    "        j =j+1\n",
    "    print()\n",
    "    i = i +1"
   ]
  },
  {
   "cell_type": "code",
   "execution_count": null,
   "metadata": {},
   "outputs": [],
   "source": [
    "3. Star Pattern\n",
    "\"\"\"\n",
    "Print the following pattern\n",
    "Pattern for N = 4\n",
    "    ...*\n",
    "    ..***\n",
    "    .*****\n",
    "    *******\n",
    "The dots represent spaces.\n",
    "\"\"\"\n",
    "Sample Input  :\n",
    "3\n",
    "Sample Output  :\n",
    "   *\n",
    "  ***\n",
    " *****\n"
   ]
  },
  {
   "cell_type": "code",
   "execution_count": 3,
   "metadata": {},
   "outputs": [
    {
     "name": "stdout",
     "output_type": "stream",
     "text": [
      "3\n",
      "  *\n",
      " ***\n",
      "*****\n"
     ]
    }
   ],
   "source": [
    "n = int(input())\n",
    "i = 1\n",
    "while i <= n:\n",
    "    s = 1\n",
    "    while s <= n-i:\n",
    "        print(\" \" , end = \"\")\n",
    "        s = s + 1\n",
    "    star = 1\n",
    "    while star <= i:\n",
    "        print(\"*\" , end = \"\")\n",
    "        star = star + 1\n",
    "    star2=i-1\n",
    "    while star2>=1:\n",
    "        print(\"*\",end=\"\")\n",
    "        star2 = star2-1\n",
    "    print()\n",
    "    i = i+1"
   ]
  },
  {
   "cell_type": "code",
   "execution_count": null,
   "metadata": {},
   "outputs": [],
   "source": [
    "4 Triangle of Numbers\n",
    "\"\"\"\n",
    "Print the following pattern for the given number of rows.\n",
    "Pattern for N = 4\n",
    "    ...1\n",
    "    ..232\n",
    "    .34543\n",
    "    4567654\n",
    "The dots represent spaces.\n",
    "\"\"\""
   ]
  },
  {
   "cell_type": "code",
   "execution_count": 7,
   "metadata": {},
   "outputs": [
    {
     "name": "stdout",
     "output_type": "stream",
     "text": [
      "4\n",
      "   1\n",
      "  232\n",
      " 34543\n",
      "4567654\n"
     ]
    }
   ],
   "source": [
    "n= int(input())\n",
    "i=1\n",
    "while i <=n:\n",
    "    s =1\n",
    "    while s<=n-i:\n",
    "        print(\" \", end=\"\")\n",
    "        s =s+1\n",
    "    j=1\n",
    "    p=i\n",
    "    while j<=i:\n",
    "        print(p, end=\"\")\n",
    "        j =j+1\n",
    "        p =p+1\n",
    "    n2=2*(i-1)\n",
    "    while n2>=i:\n",
    "        if i>1:\n",
    "            print(n2, end=\"\")\n",
    "        n2=n2-1\n",
    "    print()\n",
    "    i =i+1"
   ]
  },
  {
   "cell_type": "code",
   "execution_count": null,
   "metadata": {},
   "outputs": [],
   "source": [
    "5 Diamond of stars\n",
    "\"\"\"\n",
    "Print the following pattern for the given number of rows.\n",
    "Note: N is always odd.\n",
    "Pattern for N = 5\n",
    "    ..*\n",
    "    .***\n",
    "    *****\n",
    "    .***\n",
    "    ..*\n",
    "The dots represent spaces.\n",
    "\"\"\" "
   ]
  },
  {
   "cell_type": "code",
   "execution_count": 12,
   "metadata": {},
   "outputs": [
    {
     "name": "stdout",
     "output_type": "stream",
     "text": [
      "5\n",
      "  *\n",
      " ***\n",
      "*****\n",
      " ***\n",
      "  *\n"
     ]
    }
   ],
   "source": [
    "n = int(input())\n",
    "i=1\n",
    "n1 = (n+1)/2\n",
    "while i<=n1:\n",
    "    s=1\n",
    "    while s<=n1-i:\n",
    "        print(\" \", end=\"\")\n",
    "        s=s+1\n",
    "    star=1\n",
    "    while star<=(2*i-1):\n",
    "        print(\"*\", end=\"\")\n",
    "        star=star+1\n",
    "    print()\n",
    "    i=i+1\n",
    "i=1\n",
    "n2=n/2\n",
    "while i <=n2:\n",
    "    s2=1\n",
    "    while s2<=i:\n",
    "        print(\" \", end=\"\")\n",
    "        s2=s2 + 1\n",
    "    star2 =n-2*i\n",
    "    while star2>0:\n",
    "        print(\"*\", end=\"\")\n",
    "        star2=star2-1\n",
    "    print()\n",
    "    i=i+1"
   ]
  },
  {
   "cell_type": "code",
   "execution_count": null,
   "metadata": {},
   "outputs": [],
   "source": [
    "6 Number Pattern\n",
    "\"\"\"\n",
    "Print the following pattern for n number of rows.\n",
    "For eg. N = 5\n",
    "\n",
    "1        1\n",
    "12      21\n",
    "123    321\n",
    "1234  4321\n",
    "1234554321\n",
    "\"\"\""
   ]
  },
  {
   "cell_type": "code",
   "execution_count": null,
   "metadata": {},
   "outputs": [],
   "source": []
  }
 ],
 "metadata": {
  "kernelspec": {
   "display_name": "Python 3",
   "language": "python",
   "name": "python3"
  },
  "language_info": {
   "codemirror_mode": {
    "name": "ipython",
    "version": 3
   },
   "file_extension": ".py",
   "mimetype": "text/x-python",
   "name": "python",
   "nbconvert_exporter": "python",
   "pygments_lexer": "ipython3",
   "version": "3.7.6"
  }
 },
 "nbformat": 4,
 "nbformat_minor": 4
}
