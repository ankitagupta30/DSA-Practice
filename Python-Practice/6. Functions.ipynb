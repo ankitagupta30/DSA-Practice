{
 "cells": [
  {
   "cell_type": "code",
   "execution_count": null,
   "metadata": {},
   "outputs": [],
   "source": [
    "1. Fahrenheit to Celsius Function\n",
    "\"\"\"\n",
    "Given three values - Start Fahrenheit Value (S), End Fahrenheit value (E) and Step Size (W),\n",
    "you need to convert all Fahrenheit values from Start to End at the gap of W,\n",
    "into their corresponding Celsius values and print the table.\n",
    "\n",
    "Input Format :\n",
    "3 integers - S, E and W respectively\n",
    "\n",
    "Output Format :\n",
    "Fahrenheit to Celsius conversion table.\n",
    "One line for every Fahrenheit and Celsius Fahrenheit value.\n",
    "Fahrenheit value and its corresponding Celsius value should be separate by tab (\"\\t\")\n",
    "\"\"\"\n",
    "Sample Input 1:\n",
    "0\n",
    "100\n",
    "20\n",
    "Sample Output 1:\n",
    "0   -17\n",
    "20  -6\n",
    "40  4\n",
    "60  15\n",
    "80  26\n",
    "100 37"
   ]
  },
  {
   "cell_type": "code",
   "execution_count": 1,
   "metadata": {},
   "outputs": [
    {
     "name": "stdout",
     "output_type": "stream",
     "text": [
      "0\n",
      "100\n",
      "20\n",
      "0\t-17\n",
      "20\t-6\n",
      "40\t4\n",
      "60\t15\n",
      "80\t26\n"
     ]
    }
   ],
   "source": [
    "s=int(input())\n",
    "e=int(input())\n",
    "st=int(input())\n",
    "def conversion(start,end,step):\n",
    "    for f in range(start,end,step):\n",
    "        cel=int((f-32)*5/9)\n",
    "        print(str(f)+\"\\t\"+str(cel))\n",
    "conversion(s,e,st)"
   ]
  },
  {
   "cell_type": "code",
   "execution_count": null,
   "metadata": {},
   "outputs": [],
   "source": [
    "2. Fibonacci Member\n",
    "\"\"\"\n",
    "Given a number N, figure out if it is a member of fibonacci series or not. \n",
    "Return true if the number is member of fibonacci series else false.\n",
    "Fibonacci Series is defined by the recurrence\n",
    "        F(n) = F(n-1) + F(n-2)\n",
    "     where F(0) = 0 and F(1) = 1\n",
    "\n",
    "Input Format :\n",
    "Integer N\n",
    "\n",
    "Output Format :\n",
    "true or false\n",
    "\"\"\"\n",
    "Sample Input 1 :\n",
    "5\n",
    "Sample Output 1 :\n",
    "true\n",
    "\n",
    "Sample Input 2 :\n",
    "14\n",
    "Sample Output 2 :\n",
    "false"
   ]
  },
  {
   "cell_type": "code",
   "execution_count": 3,
   "metadata": {
    "scrolled": true
   },
   "outputs": [
    {
     "name": "stdout",
     "output_type": "stream",
     "text": [
      "4\n",
      "false\n"
     ]
    }
   ],
   "source": [
    "n =int(input())\n",
    "def checkMemberNPrint(n):\n",
    "    curr=1\n",
    "    prev=1\n",
    "    while(curr<n):\n",
    "        temp= curr+prev\n",
    "        prev= curr\n",
    "        curr= temp\n",
    "    if curr==n:\n",
    "        print(\"true\")\n",
    "    else:\n",
    "        print(\"false\")\n",
    "checkMemberNPrint(n)\n",
    "    "
   ]
  },
  {
   "cell_type": "code",
   "execution_count": null,
   "metadata": {},
   "outputs": [],
   "source": [
    "3. Palindrome number\n",
    "\"\"\"\n",
    "Write a program to determine if given number is palindrome or not. \n",
    "Print true if it is palindrome, false otherwise.\n",
    "Palindrome are the numbers for which reverse is exactly same as the original one. For eg. 121\n",
    "\"\"\"\n",
    "Sample Input 1 :\n",
    "121\n",
    "Sample Output 1 :\n",
    "true\n",
    "Sample Input 2 :\n",
    "1032\n",
    "Sample Output 2 :\n",
    "false\n"
   ]
  },
  {
   "cell_type": "code",
   "execution_count": 26,
   "metadata": {},
   "outputs": [
    {
     "name": "stdout",
     "output_type": "stream",
     "text": [
      "121\n",
      "true\n"
     ]
    }
   ],
   "source": [
    "n=int(input())\n",
    "rev=0\n",
    "def palindrome(n):\n",
    "    global rev\n",
    "    while n>0:\n",
    "        remndr = n%10\n",
    "        rev = (rev * 10) + remndr\n",
    "        n=n//10\n",
    "    return rev\n",
    "rev=palindrome(n)\n",
    "if n == rev:\n",
    "    print(\"true\")\n",
    "else:\n",
    "    print(\"false\")\n"
   ]
  },
  {
   "cell_type": "code",
   "execution_count": null,
   "metadata": {},
   "outputs": [],
   "source": [
    "4. Check Armstrong\n",
    "\"\"\"\n",
    "Write a Program to determine if the given number is Armstrong number or not. \n",
    "Print true if number is armstrong, otherwise print false.\n",
    "An Armstrong number is a number (with digits n) \n",
    "such that the sum of its digits raised to nth power is equal to the number itself.\n",
    "\n",
    "For example,\n",
    "371, as 3^3 + 7^3 + 1^3 = 371\n",
    "1634, as 1^4 + 6^4 + 3^4 + 4^4 = 1634\n",
    "\n",
    "Input Format :\n",
    "Integer n\n",
    "Output Format :\n",
    "true or false\n",
    "\n",
    "\"\"\"\n",
    "Sample Input 1 :\n",
    "1\n",
    "Sample Output 1 :\n",
    "true\n",
    "Sample Input 2 :\n",
    "103\n",
    "Sample Output 2 :\n",
    "false"
   ]
  },
  {
   "cell_type": "code",
   "execution_count": 28,
   "metadata": {},
   "outputs": [
    {
     "name": "stdout",
     "output_type": "stream",
     "text": [
      "103\n",
      "false\n"
     ]
    }
   ],
   "source": [
    "n=int(input())\n",
    "order=len(str(n))\n",
    "sum=0\n",
    "temp=n\n",
    "while temp>0:\n",
    "    digit=temp % 10\n",
    "    sum += digit ** order\n",
    "    temp //= 10\n",
    "if n==sum:\n",
    "    print(\"true\")\n",
    "else:\n",
    "    print(\"false\")"
   ]
  },
  {
   "cell_type": "code",
   "execution_count": 53,
   "metadata": {},
   "outputs": [
    {
     "name": "stdout",
     "output_type": "stream",
     "text": [
      "103\n",
      "false\n"
     ]
    }
   ],
   "source": [
    "#Armstrong using function \n",
    "# incorrect\n",
    "n=int(input())\n",
    "order=len(str(n))\n",
    "\n",
    "def armstrong(n):\n",
    "    m = n\n",
    "    sum=0\n",
    "    while (n != 0):\n",
    "        rem = n%10\n",
    "        sum += rem**order\n",
    "        n=n//10\n",
    "    return sum\n",
    "m = armstrong(n)\n",
    "if sum==m:\n",
    "    print(\"true\")\n",
    "else:\n",
    "    print(\"false\")"
   ]
  }
 ],
 "metadata": {
  "kernelspec": {
   "display_name": "Python 3",
   "language": "python",
   "name": "python3"
  },
  "language_info": {
   "codemirror_mode": {
    "name": "ipython",
    "version": 3
   },
   "file_extension": ".py",
   "mimetype": "text/x-python",
   "name": "python",
   "nbconvert_exporter": "python",
   "pygments_lexer": "ipython3",
   "version": "3.7.6"
  }
 },
 "nbformat": 4,
 "nbformat_minor": 4
}
