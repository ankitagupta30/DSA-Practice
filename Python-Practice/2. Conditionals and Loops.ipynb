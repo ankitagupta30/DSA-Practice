{
 "cells": [
  {
   "cell_type": "markdown",
   "metadata": {},
   "source": [
    "1. Check number\n",
    "\"\"\"\n",
    "Given an integer n, find if n is positive, negative or 0.\n",
    "If n is positive, print \"Positive\"\n",
    "If n is negative, print \"Negative\"\n",
    "And if n is equal to 0, print \"Zero\".\n",
    "\"\"\"\n",
    "Input Format : Integer n\n",
    "Output Format : \"Positive\" or \"Negative\" or \"Zero\" (without double quotes)"
   ]
  },
  {
   "cell_type": "code",
   "execution_count": 2,
   "metadata": {},
   "outputs": [
    {
     "name": "stdout",
     "output_type": "stream",
     "text": [
      "7\n",
      "Positive\n"
     ]
    }
   ],
   "source": [
    "n = int(input())\n",
    "if n >1:\n",
    "    print(\"Positive\")\n",
    "elif n<1:\n",
    "    print(\"Negative\")\n",
    "else:\n",
    "    print(\"Zero\")"
   ]
  },
  {
   "cell_type": "markdown",
   "metadata": {},
   "source": [
    "2. Sum of n numbers\n",
    "\"\"\"\n",
    "Given an integer n, find and print the sum of numbers from 1 to n.\n",
    "Note : Use while loop only.\n",
    "\"\"\"\n",
    "Input Format : Integer n\n",
    "Output Format : Sum"
   ]
  },
  {
   "cell_type": "code",
   "execution_count": 4,
   "metadata": {},
   "outputs": [
    {
     "name": "stdout",
     "output_type": "stream",
     "text": [
      "5\n",
      "0\n",
      "1\n",
      "3\n",
      "6\n",
      "10\n",
      "15\n"
     ]
    }
   ],
   "source": [
    "n = int(input())\n",
    "count= 0\n",
    "sum = 0\n",
    "while count<=n:\n",
    "    sum = sum + count\n",
    "    count = count +1\n",
    "    print(sum)"
   ]
  },
  {
   "cell_type": "markdown",
   "metadata": {},
   "source": [
    "3. Sum of Even Numbers\n",
    "\"\"\"\n",
    "Given a number N, print sum of all even numbers from 1 to N.\n",
    "\"\"\"\n",
    "Input Format : Integer N\n",
    "Output Format : Required Sum\n"
   ]
  },
  {
   "cell_type": "code",
   "execution_count": 5,
   "metadata": {},
   "outputs": [
    {
     "name": "stdout",
     "output_type": "stream",
     "text": [
      "5\n",
      "6\n"
     ]
    }
   ],
   "source": [
    "n = int(input())\n",
    "count = 2\n",
    "sum = 0\n",
    "while count<=n:\n",
    "    sum = sum+count\n",
    "    count=count+2\n",
    "print(sum)"
   ]
  },
  {
   "cell_type": "markdown",
   "metadata": {},
   "source": [
    "4. Fahrenheit to Celsius\n",
    "\"\"\"\n",
    "Given three values - Start Fahrenheit Value (S), End Fahrenheit value (E) and Step Size (W),\n",
    "you need to convert all Fahrenheit values from Start to End at the gap of W,\n",
    "into their corresponding Celsius values and print the table.\n",
    "\"\"\"\n",
    "Input Format : 3 integers - S, E and W respectively\n",
    "Output Format : Fahrenheit to Celsius conversion table.\n",
    "                One line for every Fahrenheit and corresponding Celsius value.\n",
    "                On Fahrenheit value and its corresponding Celsius value should be separate by tab (\"\\t\")\n"
   ]
  },
  {
   "cell_type": "code",
   "execution_count": 7,
   "metadata": {},
   "outputs": [
    {
     "name": "stdout",
     "output_type": "stream",
     "text": [
      "76\n",
      "98\n",
      "4\n",
      "80\t26\n",
      "84\t28\n",
      "88\t31\n",
      "92\t33\n",
      "96\t35\n",
      "100\t37\n"
     ]
    }
   ],
   "source": [
    "fh1 = int(input())\n",
    "fh2 = int(input())\n",
    "step = int(input())\n",
    "cth =fh1 \n",
    "while cth<=fh2:\n",
    "    cth = cth + step\n",
    "    c = int((cth - 32) * 5 / 9)\n",
    "    print(str(cth) + \"\\t\" +str(c))\n"
   ]
  },
  {
   "cell_type": "code",
   "execution_count": null,
   "metadata": {},
   "outputs": [],
   "source": []
  }
 ],
 "metadata": {
  "kernelspec": {
   "display_name": "Python 3",
   "language": "python",
   "name": "python3"
  },
  "language_info": {
   "codemirror_mode": {
    "name": "ipython",
    "version": 3
   },
   "file_extension": ".py",
   "mimetype": "text/x-python",
   "name": "python",
   "nbconvert_exporter": "python",
   "pygments_lexer": "ipython3",
   "version": "3.7.6"
  }
 },
 "nbformat": 4,
 "nbformat_minor": 4
}
