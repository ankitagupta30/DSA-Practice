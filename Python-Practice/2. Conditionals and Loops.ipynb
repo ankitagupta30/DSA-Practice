{
 "cells": [
  {
   "cell_type": "markdown",
   "metadata": {},
   "source": [
    "1. Check number\n",
    "\"\"\"\n",
    "Given an integer n, find if n is positive, negative or 0.\n",
    "If n is positive, print \"Positive\"\n",
    "If n is negative, print \"Negative\"\n",
    "And if n is equal to 0, print \"Zero\".\n",
    "\"\"\"\n",
    "Input Format : Integer n\n",
    "Output Format : \"Positive\" or \"Negative\" or \"Zero\" (without double quotes)"
   ]
  },
  {
   "cell_type": "code",
   "execution_count": 2,
   "metadata": {},
   "outputs": [
    {
     "name": "stdout",
     "output_type": "stream",
     "text": [
      "7\n",
      "Positive\n"
     ]
    }
   ],
   "source": [
    "n = int(input())\n",
    "if n >1:\n",
    "    print(\"Positive\")\n",
    "elif n<1:\n",
    "    print(\"Negative\")\n",
    "else:\n",
    "    print(\"Zero\")"
   ]
  },
  {
   "cell_type": "markdown",
   "metadata": {},
   "source": [
    "2. Sum of n numbers\n",
    "\"\"\"\n",
    "Given an integer n, find and print the sum of numbers from 1 to n.\n",
    "Note : Use while loop only.\n",
    "\"\"\"\n",
    "Input Format : Integer n\n",
    "Output Format : Sum"
   ]
  },
  {
   "cell_type": "code",
   "execution_count": 4,
   "metadata": {},
   "outputs": [
    {
     "name": "stdout",
     "output_type": "stream",
     "text": [
      "5\n",
      "0\n",
      "1\n",
      "3\n",
      "6\n",
      "10\n",
      "15\n"
     ]
    }
   ],
   "source": [
    "n = int(input())\n",
    "count= 0\n",
    "sum = 0\n",
    "while count<=n:\n",
    "    sum = sum + count\n",
    "    count = count +1\n",
    "    print(sum)"
   ]
  },
  {
   "cell_type": "markdown",
   "metadata": {},
   "source": [
    "3. Sum of Even Numbers\n",
    "\"\"\"\n",
    "Given a number N, print sum of all even numbers from 1 to N.\n",
    "\"\"\"\n",
    "Input Format : Integer N\n",
    "Output Format : Required Sum\n"
   ]
  },
  {
   "cell_type": "code",
   "execution_count": 5,
   "metadata": {},
   "outputs": [
    {
     "name": "stdout",
     "output_type": "stream",
     "text": [
      "5\n",
      "6\n"
     ]
    }
   ],
   "source": [
    "n = int(input())\n",
    "count = 2\n",
    "sum = 0\n",
    "while count<=n:\n",
    "    sum = sum+count\n",
    "    count=count+2\n",
    "print(sum)"
   ]
  },
  {
   "cell_type": "markdown",
   "metadata": {},
   "source": [
    "4. Fahrenheit to Celsius\n",
    "\"\"\"\n",
    "Given three values - Start Fahrenheit Value (S), End Fahrenheit value (E) and Step Size (W),\n",
    "you need to convert all Fahrenheit values from Start to End at the gap of W,\n",
    "into their corresponding Celsius values and print the table.\n",
    "\"\"\"\n",
    "Input Format : 3 integers - S, E and W respectively\n",
    "Output Format : Fahrenheit to Celsius conversion table.\n",
    "                One line for every Fahrenheit and corresponding Celsius value.\n",
    "                On Fahrenheit value and its corresponding Celsius value should be separate by tab (\"\\t\")\n"
   ]
  },
  {
   "cell_type": "code",
   "execution_count": 7,
   "metadata": {},
   "outputs": [
    {
     "name": "stdout",
     "output_type": "stream",
     "text": [
      "76\n",
      "98\n",
      "4\n",
      "80\t26\n",
      "84\t28\n",
      "88\t31\n",
      "92\t33\n",
      "96\t35\n",
      "100\t37\n"
     ]
    }
   ],
   "source": [
    "fh1 = int(input())\n",
    "fh2 = int(input())\n",
    "step = int(input())\n",
    "cth =fh1 \n",
    "while cth<=fh2:\n",
    "    cth = cth + step\n",
    "    c = int((cth - 32) * 5 / 9)\n",
    "    print(str(cth) + \"\\t\" +str(c))\n"
   ]
  },
  {
   "cell_type": "markdown",
   "metadata": {},
   "source": [
    "5 Calculator\n",
    "\"\"\"\n",
    "1. If the input is 1, 2 integers are taken from the user and their sum is printed.\n",
    "2. If the input is 2, 2 integers are taken from the user and their difference(1st number - 2nd number) is printed.\n",
    "3. If the input is 3, 2 integers are taken from the user and their product is printed.\n",
    "4. If the input is 4, 2 integers are taken from the user and the quotient obtained (on dividing 1st number by 2nd number) is printed.\n",
    "5. If the input is 5, 2 integers are taken from the user and their remainder(1st number mod 2nd number) is printed.\n",
    "6. If the input is 6, the program exits.\n",
    "7. For any other input, print \"Invalid Operation\".\n",
    "\"\"\"\n",
    "Input format: Take integers as input, in accordance to the description of the question.\n",
    "Output format: The output lines must be as prescribed in the description of the question.\n"
   ]
  },
  {
   "cell_type": "code",
   "execution_count": null,
   "metadata": {
    "scrolled": true
   },
   "outputs": [
    {
     "name": "stdout",
     "output_type": "stream",
     "text": [
      "3\n",
      "4\n",
      "5\n",
      "20\n"
     ]
    }
   ],
   "source": [
    "while(True):\n",
    "    no=int(input())\n",
    "    if(no==1):\n",
    "        a=int(input())\n",
    "        b=int(input())\n",
    "        c=a+b\n",
    "        print(c)\n",
    "    elif(no==2):\n",
    "        a=int(input())\n",
    "        b=int(input())\n",
    "        c=a-b\n",
    "        print(c)\n",
    "    elif(no==3):\n",
    "        a=int(input())\n",
    "        b=int(input())\n",
    "        c=a*b\n",
    "        print(c)\n",
    "    elif(no==4):\n",
    "        a=int(input())\n",
    "        b=int(input())\n",
    "        c=a//b\n",
    "        print(c)\n",
    "    elif(no==5):\n",
    "        a=int(input())\n",
    "        b=int(input())\n",
    "        c=a%b\n",
    "        print(c)\n",
    "    elif(no==6):\n",
    "        break\n",
    "    else:\n",
    "        print(\"Invalid Operation\")"
   ]
  },
  {
   "cell_type": "markdown",
   "metadata": {},
   "source": [
    "6 Reverse of a number\n",
    "\"\"\"\n",
    "Write a program to generate the reverse of a given number N. Print the corresponding reverse number.\n",
    "Note : If a number has trailing zeros, then its reverse will not include them. \n",
    "For e.g., reverse of 10400 will be 401 instead of 00401.\n",
    "\"\"\"\n",
    "Input format : Integer N\n",
    "Output format : Corresponding reverse number"
   ]
  },
  {
   "cell_type": "code",
   "execution_count": 5,
   "metadata": {},
   "outputs": [
    {
     "name": "stdout",
     "output_type": "stream",
     "text": [
      "1975790\n",
      "975791\n"
     ]
    }
   ],
   "source": [
    "n = int(input())\n",
    "rev = 0\n",
    "while n > 0:\n",
    "    l = n % 10\n",
    "    n = n // 10\n",
    "    rev = rev *10 + l\n",
    "print(rev)"
   ]
  },
  {
   "cell_type": "markdown",
   "metadata": {},
   "source": [
    "7 \n",
    "#Palindrome number\n",
    "\"\"\"\n",
    "Write a program to determine if given number is palindrome or not. Print true if it is palindrome, false otherwise.\n",
    "Palindrome are the numbers for which reverse is exactly same as the original one. For eg. 121\n",
    "\"\"\"\n",
    "Sample Input : 121\n",
    "Sample Output : true"
   ]
  },
  {
   "cell_type": "code",
   "execution_count": 7,
   "metadata": {},
   "outputs": [
    {
     "name": "stdout",
     "output_type": "stream",
     "text": [
      "1975790\n",
      "False\n"
     ]
    }
   ],
   "source": [
    "n=int(input())\n",
    "nclone = n\n",
    "rev =0\n",
    "while n>0:\n",
    "    l=n%10\n",
    "    n=n//10\n",
    "    rev=rev*10+l\n",
    "if nclone == rev:\n",
    "    print(\"True\")\n",
    "else:\n",
    "    print(\"False\")"
   ]
  },
  {
   "cell_type": "code",
   "execution_count": null,
   "metadata": {},
   "outputs": [],
   "source": [
    "8 #Sum of even & odd\n",
    "\"\"\"\n",
    "Write a program to input an integer N and print the sum of all its even digits and sum of all its odd digits separately.\n",
    "Digits mean numbers, not the places!\n",
    "That is, if the given integer is \"13245\", even digits are 2 & 4 and odd digits are 1, 3 & 5.\n",
    "\"\"\"\n",
    "Input format : Integer N\n",
    "Output format : Sum_of_Even_Digits Sum_of_Odd_Digits\n",
    "                (Print first even sum and then odd sum separated by space)\n",
    "Sample Input 1: 1234\n",
    "Sample Output 1: 6 9"
   ]
  },
  {
   "cell_type": "code",
   "execution_count": 17,
   "metadata": {},
   "outputs": [
    {
     "name": "stdout",
     "output_type": "stream",
     "text": [
      "13245\n",
      "6  9\n"
     ]
    }
   ],
   "source": [
    "n=int(input())\n",
    "evensum= 0 \n",
    "oddsum = 0\n",
    "while (n>0):\n",
    "    d= n%10\n",
    "    if d%2==0:\n",
    "        evensum= evensum + d\n",
    "    else:\n",
    "        oddsum = oddsum + d\n",
    "    n=n//10\n",
    "print(evensum, \"\", oddsum)\n",
    "    "
   ]
  },
  {
   "cell_type": "markdown",
   "metadata": {},
   "source": [
    "9 Nth Fibonacci number\n",
    "\"\"\"\n",
    "Nth term of fibonacci series F(n) is calculated using following formula -\n",
    "    F(n) = F(n-1) + F(n-2), \n",
    "    Where, F(1) = F(2) = 1\n",
    "Provided N you have to find out the Nth Fibonacci Number.\n",
    "\"\"\"\n",
    "Input Format : Integer n\n",
    "Output Format : Nth Fibonacci term i.e. F(n)\n",
    "Sample Input 1: 4\n",
    "Sample Output 2: 3"
   ]
  },
  {
   "cell_type": "code",
   "execution_count": 19,
   "metadata": {},
   "outputs": [
    {
     "name": "stdout",
     "output_type": "stream",
     "text": [
      "4\n",
      "3\n"
     ]
    }
   ],
   "source": [
    "n = int(input())\n",
    "counter = 1\n",
    "first =1\n",
    "second =1\n",
    "while counter < n:\n",
    "    temp = first +second\n",
    "    first = second\n",
    "    second = temp\n",
    "    counter = counter + 1\n",
    "print(first)"
   ]
  }
 ],
 "metadata": {
  "kernelspec": {
   "display_name": "Python 3",
   "language": "python",
   "name": "python3"
  },
  "language_info": {
   "codemirror_mode": {
    "name": "ipython",
    "version": 3
   },
   "file_extension": ".py",
   "mimetype": "text/x-python",
   "name": "python",
   "nbconvert_exporter": "python",
   "pygments_lexer": "ipython3",
   "version": "3.7.6"
  }
 },
 "nbformat": 4,
 "nbformat_minor": 4
}
