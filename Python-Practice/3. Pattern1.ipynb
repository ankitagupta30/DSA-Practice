{
 "cells": [
  {
   "cell_type": "markdown",
   "metadata": {},
   "source": [
    "1. Square Pattern\n",
    "\"\"\"\n",
    "Print the following pattern for the given N number of rows.\n",
    "Pattern for N = 4\n",
    "    4444\n",
    "    4444\n",
    "    4444\n",
    "    4444\n",
    "\"\"\"\n",
    "Sample Input 1:\n",
    "7\n",
    "Sample Output 1:\n",
    "7777777\n",
    "7777777\n",
    "7777777\n",
    "7777777\n",
    "7777777\n",
    "7777777\n",
    "7777777"
   ]
  },
  {
   "cell_type": "code",
   "execution_count": 8,
   "metadata": {},
   "outputs": [
    {
     "name": "stdout",
     "output_type": "stream",
     "text": [
      "4\n",
      "4444\n",
      "4444\n",
      "4444\n",
      "4444\n"
     ]
    }
   ],
   "source": [
    "n = int(input())\n",
    "i=1\n",
    "while i<=n:\n",
    "    j=1\n",
    "    while j<=n :\n",
    "        print(n, end=\"\")\n",
    "        j=j+1\n",
    "    print()\n",
    "    i= i+1"
   ]
  },
  {
   "cell_type": "markdown",
   "metadata": {},
   "source": [
    "2  Triangular Star Pattern\n",
    "\"\"\"\n",
    "Print the following pattern for the given N number of rows.\n",
    "Pattern for N = 4\n",
    "    *\n",
    "    **\n",
    "    ***\n",
    "    ****\n",
    "Note : There are no spaces between the stars (*)\n",
    "\"\"\""
   ]
  },
  {
   "cell_type": "code",
   "execution_count": 1,
   "metadata": {},
   "outputs": [
    {
     "name": "stdout",
     "output_type": "stream",
     "text": [
      "5\n",
      "*\n",
      "**\n",
      "***\n",
      "****\n",
      "*****\n"
     ]
    }
   ],
   "source": [
    "n = int(input())\n",
    "i =1\n",
    "while i <=n:\n",
    "    j =1\n",
    "    while j <=i:\n",
    "        print(\"*\", end=\"\")\n",
    "        j = j + 1\n",
    "    print()\n",
    "    i = i +1"
   ]
  },
  {
   "cell_type": "markdown",
   "metadata": {},
   "source": [
    "3 Triangle Number Pattern\n",
    "\"\"\"\n",
    "Print the following pattern for the given N number of rows.\n",
    "Pattern for N = 4\n",
    "    1\n",
    "    22\n",
    "    333\n",
    "    4444\n",
    "\"\"\"\n",
    "Sample Input :\n",
    "5\n",
    "Sample Output :\n",
    "1\n",
    "22\n",
    "333\n",
    "4444\n",
    "55555"
   ]
  },
  {
   "cell_type": "code",
   "execution_count": 6,
   "metadata": {},
   "outputs": [
    {
     "name": "stdout",
     "output_type": "stream",
     "text": [
      "5\n",
      "1\n",
      "22\n",
      "333\n",
      "4444\n",
      "55555\n"
     ]
    }
   ],
   "source": [
    "n = int(input())\n",
    "i = 1\n",
    "while i<=n:\n",
    "    j=1\n",
    "    while j <=i:\n",
    "        print(i, end=\"\")\n",
    "        j = j+1\n",
    "    print()\n",
    "    i = i+1"
   ]
  },
  {
   "cell_type": "markdown",
   "metadata": {},
   "source": [
    "4 Reverse Number Pattern\n",
    "\"\"\"\n",
    "Print the following pattern for the given N number of rows.\n",
    "Pattern for N = 4\n",
    "    1\n",
    "    21\n",
    "    321\n",
    "    4321\n",
    "\"\"\"\n",
    "Sample Input :\n",
    "5\n",
    "Sample Output :\n",
    "1\n",
    "21\n",
    "321\n",
    "4321\n",
    "54321"
   ]
  },
  {
   "cell_type": "code",
   "execution_count": 17,
   "metadata": {},
   "outputs": [
    {
     "name": "stdout",
     "output_type": "stream",
     "text": [
      "5\n",
      "1\n",
      "21\n",
      "321\n",
      "4321\n",
      "54321\n"
     ]
    }
   ],
   "source": [
    "n = int(input())\n",
    "i = 1\n",
    "while i <= n:\n",
    "    j = 1\n",
    "    while j <= i:\n",
    "        print(i - j + 1 , end = \"\")\n",
    "        j = j + 1\n",
    "    print()\n",
    "    i = i + 1"
   ]
  },
  {
   "cell_type": "markdown",
   "metadata": {},
   "source": [
    "5 Character Pattern\n",
    "\"\"\"\n",
    "Print the following pattern for the given N number of rows.\n",
    "Pattern for N = 4\n",
    "    A\n",
    "    BC\n",
    "    CDE\n",
    "    DEFG\n",
    "\"\"\"\n",
    "Sample Input :\n",
    "5\n",
    "Sample Output :\n",
    "A\n",
    "BC\n",
    "CDE\n",
    "DEFG\n",
    "EFGHI\n"
   ]
  },
  {
   "cell_type": "code",
   "execution_count": 26,
   "metadata": {},
   "outputs": [
    {
     "name": "stdout",
     "output_type": "stream",
     "text": [
      "4\n",
      "A\n",
      "BC\n",
      "CDE\n",
      "DEFG\n"
     ]
    }
   ],
   "source": [
    "n = int(input())\n",
    "i = 1\n",
    "while i <=n:\n",
    "    j = 1\n",
    "    start = chr(ord('A')+i-1)\n",
    "    while j <=i:\n",
    "        charp= chr(ord(start)+j-1)\n",
    "        print(charp, end=\"\")\n",
    "        j = j +1\n",
    "    print()\n",
    "    i = i+1"
   ]
  },
  {
   "cell_type": "markdown",
   "metadata": {},
   "source": [
    "6 Interesting Alphabets\n",
    "\"\"\"\"\n",
    "Print the following pattern for the given number of rows.\n",
    "Pattern for N = 5\n",
    "    E\n",
    "    DE\n",
    "    CDE\n",
    "    BCDE\n",
    "    ABCDE\n",
    " \"\"\""
   ]
  },
  {
   "cell_type": "code",
   "execution_count": 28,
   "metadata": {},
   "outputs": [
    {
     "name": "stdout",
     "output_type": "stream",
     "text": [
      "4\n",
      "D\n",
      "CD\n",
      "BCD\n",
      "ABCD\n"
     ]
    }
   ],
   "source": [
    "n = int(input())\n",
    "i = 1\n",
    "start =chr(ord('A') +n -1)\n",
    "\n",
    "while i <=n:\n",
    "    j =1\n",
    "    while j<=i:\n",
    "        charP= chr(ord(start) -i+j)\n",
    "        print(charP, end= \"\")\n",
    "        j = j+1\n",
    "    print()\n",
    "    i = i +1"
   ]
  },
  {
   "cell_type": "markdown",
   "metadata": {},
   "source": [
    "7 Number Pattern 1\n",
    "\"\"\"\n",
    "Print the following pattern for the given N number of rows.\n",
    "Pattern for N = 4\n",
    "    1\n",
    "    11\n",
    "    111\n",
    "    1111\n",
    "\"\"\" "
   ]
  },
  {
   "cell_type": "code",
   "execution_count": 30,
   "metadata": {},
   "outputs": [
    {
     "name": "stdout",
     "output_type": "stream",
     "text": [
      "4\n",
      "1\n",
      "11\n",
      "111\n",
      "1111\n"
     ]
    }
   ],
   "source": [
    "n = int(input())\n",
    "i = 1\n",
    "while i <=n:\n",
    "    j =1\n",
    "    while j <=i:\n",
    "        print(\"1\", end=\"\")\n",
    "        j = j+1\n",
    "    print()\n",
    "    i = i +1"
   ]
  },
  {
   "cell_type": "markdown",
   "metadata": {},
   "source": [
    "8 Number Pattern 2\n",
    "\"\"\"\n",
    "Print the following pattern for the given N number of rows.\n",
    "Pattern for N = 4\n",
    "    1\n",
    "    11\n",
    "    202\n",
    "    3003\n",
    "\"\"\""
   ]
  },
  {
   "cell_type": "code",
   "execution_count": 33,
   "metadata": {},
   "outputs": [
    {
     "name": "stdout",
     "output_type": "stream",
     "text": [
      "4\n",
      "1\n",
      "11\n",
      "202\n",
      "3003\n"
     ]
    }
   ],
   "source": [
    "n = int(input())\n",
    "i = 1\n",
    "while i <=n:\n",
    "    j = 1\n",
    "    while j <=i:\n",
    "        if(j == 1) or ( j== i):\n",
    "            if(i-1==0):\n",
    "                print(\"1\", end=\"\")\n",
    "            else:\n",
    "                print(i-1, end=\"\")\n",
    "        else:\n",
    "            print(\"0\", end=\"\")\n",
    "        j = j+1\n",
    "    print()\n",
    "    i = i +1"
   ]
  },
  {
   "cell_type": "markdown",
   "metadata": {},
   "source": [
    "9 Number Pattern 3\n",
    "\"\"\"\n",
    "Print the following pattern for the given N number of rows.\n",
    "Pattern for N = 4\n",
    "    1\n",
    "    11\n",
    "    121\n",
    "    1221\n",
    "\"\"\""
   ]
  },
  {
   "cell_type": "code",
   "execution_count": 6,
   "metadata": {},
   "outputs": [
    {
     "name": "stdout",
     "output_type": "stream",
     "text": [
      "4\n",
      "1\n",
      "11\n",
      "121\n",
      "1221\n"
     ]
    }
   ],
   "source": [
    "n = int(input())\n",
    "i =1\n",
    "while i <=n:\n",
    "    j=1\n",
    "    while j <=i:\n",
    "        if(j==1) or (j==i):\n",
    "            print(\"1\", end=\"\")\n",
    "        else:\n",
    "            print(\"2\", end=\"\")\n",
    "        j = j+1\n",
    "    print()\n",
    "    i = i +1"
   ]
  },
  {
   "cell_type": "markdown",
   "metadata": {},
   "source": [
    "10 Number Pattern 4\n",
    "\"\"\"\n",
    "Print the following pattern for the given N number of rows.\n",
    "Pattern for N = 4\n",
    "    1234\n",
    "    123\n",
    "    12\n",
    "    1\n",
    "\"\"\""
   ]
  },
  {
   "cell_type": "code",
   "execution_count": null,
   "metadata": {},
   "outputs": [],
   "source": [
    "n = int(input())\n",
    "i = 1\n",
    "while i <= n :\n",
    "    j = 1\n",
    "    while j <= n-i+1:\n",
    "        print(j , end = \"\")\n",
    "        j = j + 1\n",
    "    print()\n",
    "    i = i+1"
   ]
  },
  {
   "cell_type": "markdown",
   "metadata": {},
   "source": [
    "11 Alpha Pattern\n",
    "\"\"\"\n",
    "Print the following pattern for the given N number of rows.\n",
    "Pattern for N = 3\n",
    "    A\n",
    "    BB\n",
    "    CCC\n",
    "\"\"\""
   ]
  },
  {
   "cell_type": "code",
   "execution_count": 4,
   "metadata": {},
   "outputs": [
    {
     "name": "stdout",
     "output_type": "stream",
     "text": [
      "3\n",
      "A\n",
      "BB\n",
      "CCC\n"
     ]
    }
   ],
   "source": [
    "n = int(input())\n",
    "i = 1\n",
    "while i<=n:\n",
    "    j =1\n",
    "    start= chr(ord('A'))\n",
    "    while j <=i:\n",
    "        CharP= chr(ord(start)+i-1)\n",
    "        print(CharP, end=\"\")\n",
    "        j = j+1\n",
    "    print()\n",
    "    i=i+1"
   ]
  }
 ],
 "metadata": {
  "kernelspec": {
   "display_name": "Python 3",
   "language": "python",
   "name": "python3"
  },
  "language_info": {
   "codemirror_mode": {
    "name": "ipython",
    "version": 3
   },
   "file_extension": ".py",
   "mimetype": "text/x-python",
   "name": "python",
   "nbconvert_exporter": "python",
   "pygments_lexer": "ipython3",
   "version": "3.7.6"
  }
 },
 "nbformat": 4,
 "nbformat_minor": 4
}
