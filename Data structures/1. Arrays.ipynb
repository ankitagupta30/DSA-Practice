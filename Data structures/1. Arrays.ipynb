{
 "cells": [
  {
   "cell_type": "code",
   "execution_count": null,
   "metadata": {},
   "outputs": [],
   "source": [
    "#Note: \n",
    "N=int(input()) #take the size\n",
    "arr=list(map(int, input().split('')[:N]))\n",
    "#input()—takes input\n",
    "\n",
    "If you enter 1 2 3 4 5 it is taken as ‘1 2 3 4 5’\n",
    "\n",
    "#split(‘ ‘)—splits the string into sequence of elements means converts whitespace #into commas (,)\n",
    "\n",
    "#split function applicable only for string data type\n",
    "\n",
    "#[:N]—slicing method it takes only up to N #even if user enters more than N numbers\n",
    "\n",
    "#map— takes 2 arguments 1st one is a function and 2nd one is sequence of numbers\n",
    "\n",
    "#It maps sequence of numbers to a function,\n",
    "\n",
    "#i.e, it applies function to each element in the sequence\n",
    "\n",
    "#Here it is performing typecasting operation #why we need this because in python by #default input is taken as string so we need to #convert it to int/float format.\n",
    "\n",
    "#list— this is the container to store the elements. It is a mutable data type means we can add elements in the middle of this array and modify the elements which are already available"
   ]
  },
  {
   "cell_type": "code",
   "execution_count": null,
   "metadata": {},
   "outputs": [],
   "source": [
    "# another way\n",
    "x = [int(i) for i in input().split()]"
   ]
  },
  {
   "cell_type": "code",
   "execution_count": null,
   "metadata": {},
   "outputs": [],
   "source": [
    "1. Program for array rotation\n",
    "Write a function rotate(ar[], d, n) that rotates arr[] of size n by d elements."
   ]
  },
  {
   "cell_type": "code",
   "execution_count": 14,
   "metadata": {},
   "outputs": [
    {
     "name": "stdout",
     "output_type": "stream",
     "text": [
      "4\n",
      "1 2 3 4\n",
      "2\n",
      "[3, 4, 1, 2]\n"
     ]
    }
   ],
   "source": [
    "def rotate(arr, d):\n",
    "    d=d%len(arr)\n",
    "    return arr[d:] + arr[:d]\n",
    "N=int(input()) \n",
    "arr=list(map(int, input().split(' ')[:N]))\n",
    "d = int(input())\n",
    "\n",
    "print(rotate(arr, d))"
   ]
  },
  {
   "cell_type": "code",
   "execution_count": 15,
   "metadata": {},
   "outputs": [
    {
     "name": "stdout",
     "output_type": "stream",
     "text": [
      "1 2 3 4\n",
      "2\n",
      "[3, 4, 1, 2]\n"
     ]
    }
   ],
   "source": [
    "def rotate(arr, d):\n",
    "    d=d%len(arr)\n",
    "    return arr[d:] + arr[:d]\n",
    "arr = [int(i) for i in input().split()]\n",
    "d = int(input())\n",
    "\n",
    "print(rotate(arr, d))"
   ]
  },
  {
   "cell_type": "code",
   "execution_count": null,
   "metadata": {},
   "outputs": [],
   "source": [
    "2. Reversal algorithm for array rotation\n",
    "Write a function rotate(arr[], d, n) that rotates arr[] of size n by d elements."
   ]
  },
  {
   "cell_type": "code",
   "execution_count": null,
   "metadata": {},
   "outputs": [],
   "source": [
    "#Note \n",
    "Algorithm :\n",
    "rotate(arr[], d, n)\n",
    "  reverse(arr[], 1, d) ;\n",
    "  reverse(arr[], d + 1, n);\n",
    "  reverse(arr[], 1, n);\n",
    "    \n",
    "##Let AB are the two parts of the input array where A = arr[0..d-1] and B = arr[d..n-1]. The idea of the algorithm is :\n",
    "Reverse A to get ArB, where Ar is reverse of A.\n",
    "Reverse B to get ArBr, where Br is reverse of B.\n",
    "Reverse all to get (ArBr) r = BA."
   ]
  },
  {
   "cell_type": "code",
   "execution_count": 20,
   "metadata": {},
   "outputs": [
    {
     "name": "stdout",
     "output_type": "stream",
     "text": [
      "3\n",
      "4\n",
      "5\n",
      "6\n",
      "7\n",
      "1\n",
      "2\n"
     ]
    }
   ],
   "source": [
    "def reversArray(arr, start, end):\n",
    "    while (start<end):\n",
    "        temp= arr[start]\n",
    "        arr[start] = arr[end]\n",
    "        arr[end] = temp\n",
    "        start +=1\n",
    "        end -=1\n",
    "def leftRotate(arr, d):\n",
    "    if d == 0:\n",
    "        return\n",
    "    n =len(arr)\n",
    "    reversArray(arr, 0, d-1)\n",
    "    reversArray(arr, d, n-1)\n",
    "    reversArray(arr, 0, n-1)\n",
    "def printArray(arr):\n",
    "    for i in range(0, len(arr)):\n",
    "        print(arr[i])\n",
    "arr=[1,2,3,4,5,6,7]\n",
    "n=len(arr)\n",
    "d=2\n",
    "leftRotate(arr,d)\n",
    "printArray(arr)"
   ]
  },
  {
   "cell_type": "code",
   "execution_count": null,
   "metadata": {},
   "outputs": [],
   "source": [
    "3. Find maximum value of Sum( i*arr[i]) with only rotations on given array allowed\n",
    "Time Complexity : O(n)\n",
    "Auxiliary Space : O(1)"
   ]
  },
  {
   "cell_type": "code",
   "execution_count": 27,
   "metadata": {},
   "outputs": [
    {
     "name": "stdout",
     "output_type": "stream",
     "text": [
      "max sum is: 330\n"
     ]
    }
   ],
   "source": [
    "# returns max possible value of Sum(i*arr[i]) \n",
    "def maxSum(arr):\n",
    "    arrSum=0\n",
    "    currVal=0  #stores sum of i*arr[i] \n",
    "    n=len(arr)\n",
    "    \n",
    "    for i in range(0,n):\n",
    "        arrSum = arrSum + arr[i]\n",
    "        currVal = currVal + (i*arr[i])\n",
    "        \n",
    "    maxVal = currVal\n",
    "    \n",
    "    # try all rotations one by one and find the maximum rotation sum \n",
    "    for j in range(1,n):\n",
    "        currVal = currVal + arrSum-n*arr[n-j]\n",
    "        if currVal>maxVal:\n",
    "            maxVal=currVal\n",
    "    return maxVal\n",
    "arr=[10, 1, 2, 3, 4, 5, 6, 7, 8, 9]\n",
    "print(\"max sum is:\", maxSum(arr))"
   ]
  },
  {
   "cell_type": "code",
   "execution_count": null,
   "metadata": {},
   "outputs": [],
   "source": []
  }
 ],
 "metadata": {
  "kernelspec": {
   "display_name": "Python 3",
   "language": "python",
   "name": "python3"
  },
  "language_info": {
   "codemirror_mode": {
    "name": "ipython",
    "version": 3
   },
   "file_extension": ".py",
   "mimetype": "text/x-python",
   "name": "python",
   "nbconvert_exporter": "python",
   "pygments_lexer": "ipython3",
   "version": "3.7.6"
  }
 },
 "nbformat": 4,
 "nbformat_minor": 4
}
